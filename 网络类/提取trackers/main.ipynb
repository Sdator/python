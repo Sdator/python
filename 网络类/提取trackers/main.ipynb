{
 "cells": [
  {
   "cell_type": "code",
   "execution_count": null,
   "metadata": {},
   "outputs": [],
   "source": [
    "# -*- coding: utf-8 -*-\n",
    "'''\n",
    "by 绝 \n",
    "\n",
    "所需模块：\n",
    "    pip3 install -U requests --user\n",
    "\n",
    "'''"
   ]
  },
  {
   "cell_type": "code",
   "execution_count": 29,
   "metadata": {},
   "outputs": [],
   "source": [
    "import os\n",
    "import requests\n",
    "\n",
    "\n",
    "# from MyLib import path\n"
   ]
  },
  {
   "cell_type": "code",
   "execution_count": 42,
   "metadata": {},
   "outputs": [],
   "source": [
    "class tracker:\n",
    "    # tracker 获取源\n",
    "    url=[\"https://trackerslist.com/all.txt\",\"https://ngosang.github.io/trackerslist/trackers_all.txt\"]\n",
    "\n",
    "    代理 = {\n",
    "        \"http\": \"http://127.0.0.1:10001\",\n",
    "        \"https\": \"http://127.0.0.1:10001\",\n",
    "    }\n",
    "\n",
    "    @property\n",
    "    def ls(self):\n",
    "        data = requests.get(url[0],proxies=代理)\n",
    "        return data.text\n",
    "\n",
    "    def __init__(self):\n",
    "        pass\n",
    "    def getlist(self):\n",
    "        pass"
   ]
  },
  {
   "cell_type": "code",
   "execution_count": 41,
   "metadata": {},
   "outputs": [
    {
     "output_type": "stream",
     "name": "stdout",
     "text": "<property object at 0x00000279ABC08590>\n"
    }
   ],
   "source": [
    "if __name__ == \"__main__\":\n",
    "    # 获取trackerlist.get()\n",
    "    print(tracker.ls)"
   ]
  },
  {
   "cell_type": "code",
   "execution_count": null,
   "metadata": {},
   "outputs": [],
   "source": []
  }
 ],
 "metadata": {
  "language_info": {
   "codemirror_mode": {
    "name": "ipython",
    "version": 3
   },
   "file_extension": ".py",
   "mimetype": "text/x-python",
   "name": "python",
   "nbconvert_exporter": "python",
   "pygments_lexer": "ipython3",
   "version": "3.8.3-final"
  },
  "orig_nbformat": 2,
  "kernelspec": {
   "name": "python38264bitcacc6462798e429f9d5a3ff055453f0b",
   "display_name": "Python 3.8.2 64-bit"
  }
 },
 "nbformat": 4,
 "nbformat_minor": 2
}